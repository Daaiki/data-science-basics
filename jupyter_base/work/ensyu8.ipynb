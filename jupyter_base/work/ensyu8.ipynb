{
 "cells": [
  {
   "cell_type": "code",
   "execution_count": 2,
   "metadata": {},
   "outputs": [],
   "source": [
    "import numpy as np\n",
    "# 列ベクトル：2行1列のnumpy.ndarrayを定義\n",
    "w = np.array([ [5.0],[3.0] ])\n",
    "# 行ベクトル：1行2列のnumpy.ndarrayを定義\n",
    "x = np.array([ [1.0,5.0] ])\n",
    "# 全ての要素が0または1の1行5列のnumpy.ndarrayを生成\n",
    "zeros = np.zeros([1,5])\n",
    "ones = np.ones([1,5])\n",
    "# 一様分布または正規分布に従ってランダムに1行5列のnumpy.ndarrayを生成\n",
    "uniform = np.random.rand(1,5)\n",
    "normal = np.random.normal(size=[1,5])"
   ]
  },
  {
   "cell_type": "code",
   "execution_count": 6,
   "metadata": {},
   "outputs": [
    {
     "name": "stdout",
     "output_type": "stream",
     "text": [
      "ベクトルw）形:(2, 1),型:float64\n",
      "[[5.]\n",
      " [3.]]\n",
      "\n",
      "ベクトルx）形:(1, 2),型:float64\n",
      "[[1. 5.]]\n",
      "\n",
      "ベクトルzeros）形:(1, 5),型:float64\n",
      "[[0. 0. 0. 0. 0.]]\n",
      "\n",
      "ベクトルones）形:(1, 5),型:float64\n",
      "[[1. 1. 1. 1. 1.]]\n",
      "\n",
      "ベクトルuniform）形:(1, 5),型:float64\n",
      "[[0.66794956 0.67289824 0.20268077 0.62734116 0.45983548]]\n",
      "\n",
      "ベクトルnormal）形:(1, 5),型:float64\n",
      "[[ 1.42940755  0.48313528 -1.28223123  0.32550921 -1.39048738]]\n"
     ]
    }
   ],
   "source": [
    "# 標準出力\n",
    "print(f\"ベクトルw）形:{w.shape},型:{w.dtype}\\n{w}\\n\")\n",
    "print(f\"ベクトルx）形:{x.shape},型:{x.dtype}\\n{x}\\n\")\n",
    "print(f\"ベクトルzeros）形:{zeros.shape},型:{zeros.dtype}\\n{zeros}\\n\")\n",
    "print(f\"ベクトルones）形:{ones.shape},型:{ones.dtype}\\n{ones}\\n\")\n",
    "print(f\"ベクトルuniform）形:{uniform.shape},型:{uniform.dtype}\\n{uniform}\\n\")\n",
    "print(f\"ベクトルnormal）形:{normal.shape},型:{normal.dtype}\\n{normal}\")"
   ]
  },
  {
   "cell_type": "code",
   "execution_count": 7,
   "metadata": {},
   "outputs": [
    {
     "name": "stdout",
     "output_type": "stream",
     "text": [
      "xとwの内積）形:(1, 1), 型:float64\n",
      "[[20.]]\n",
      "\n",
      "wのノルム）形:(1, 1), 型:float64\n",
      "[[34.]]\n",
      "\n"
     ]
    }
   ],
   "source": [
    "# 列ベクトル：2行1列のnumpy.ndarrayを定義\n",
    "w = np.array([ [5.0],[3.0] ])\n",
    "# 行ベクトル：1行2列のnumpy.ndarrayを定義\n",
    "x = np.array([ [1.0, 5.0] ])\n",
    "# 内積の計算：x（行ベクトル）とw（列ベクトル）の掛け算\n",
    "xw= np.matmul(x, w)\n",
    "# wのノルムの計算：wの転置（行ベクトル）とw（列ベクトル）の掛け算\n",
    "ww= np.matmul(w.T,w)\n",
    "# 標準出力\n",
    "print(f\"xとwの内積）形:{xw.shape}, 型:{xw.dtype}\\n{xw}\\n\")\n",
    "print(f\"wのノルム）形:{ww.shape}, 型:{ww.dtype}\\n{ww}\\n\")\n"
   ]
  },
  {
   "cell_type": "code",
   "execution_count": 8,
   "metadata": {},
   "outputs": [
    {
     "name": "stdout",
     "output_type": "stream",
     "text": [
      "行列X）形:(3, 2),型:float64\n",
      "[[1. 2.]\n",
      " [2. 4.]\n",
      " [3. 6.]]\n",
      "\n",
      "1行目）形:(1, 2),型:float64\n",
      "[[1. 2.]]\n",
      "\n",
      "2列目）形:(3, 1),型:float64\n",
      "[[2.]\n",
      " [4.]\n",
      " [6.]]\n",
      "\n"
     ]
    }
   ],
   "source": [
    "# 行列：3行2列のnumpy.ndarrayを定義\n",
    "X = np.array([ [1.0,2.0],[2.0,4.0],[3.0,6.0] ])\n",
    "# 1行目の行ベクトル(1行2列)の取り出し\n",
    "Xrow1 = X[[0],:]\n",
    "# 2列目の列ベクトル(3行1列)の取り出し\n",
    "Xcol2 = X[:, [1]]\n",
    "# 標準出力\n",
    "print(f\"行列X）形:{X.shape},型:{X.dtype}\\n{X}\\n\")\n",
    "print(f\"1行目）形:{Xrow1.shape},型:{Xrow1.dtype}\\n{Xrow1}\\n\")\n",
    "print(f\"2列目）形:{Xcol2.shape},型:{Xcol2.dtype}\\n{Xcol2}\\n\")\n"
   ]
  },
  {
   "cell_type": "code",
   "execution_count": 9,
   "metadata": {},
   "outputs": [
    {
     "name": "stdout",
     "output_type": "stream",
     "text": [
      "1行目）形:(2,),型:float64\n",
      "[1. 2.]\n",
      "\n",
      "1行目）形:(1, 2),型:float64\n",
      "[[1. 2.]]\n",
      "\n"
     ]
    }
   ],
   "source": [
    "# 1行目の行ベクトル(1行2列)の取り出し（リストなしで指定）\n",
    "Xrow1 = X[0,:]\n",
    "# 標準出力\n",
    "print(f\"1行目）形:{Xrow1.shape},型:{Xrow1.dtype}\\n{Xrow1}\\n\")\n",
    "# 1行目の行ベクトル(1行2列)の取り出し（リストで指定）\n",
    "Xrow1 = X[[0],:]\n",
    "# 標準出力\n",
    "print(f\"1行目）形:{Xrow1.shape},型:{Xrow1.dtype}\\n{Xrow1}\\n\")\n"
   ]
  },
  {
   "cell_type": "code",
   "execution_count": 10,
   "metadata": {},
   "outputs": [
    {
     "name": "stdout",
     "output_type": "stream",
     "text": [
      "積和の結果）\n",
      "[[12.]\n",
      " [23.]\n",
      " [34.]]\n"
     ]
    }
   ],
   "source": [
    "# 列ベクトルb：3行1列のnumpy.ndarrayを定義\n",
    "b = np.array([ [1.0],[1.0],[1.0] ])\n",
    "# 行列とベクトルの積と和\n",
    "result = np.matmul(X,w) + b\n",
    "# 標準出力\n",
    "print(f\"積和の結果）\\n{result}\")\n"
   ]
  },
  {
   "cell_type": "code",
   "execution_count": 13,
   "metadata": {},
   "outputs": [
    {
     "name": "stdout",
     "output_type": "stream",
     "text": [
      "行列A）ランク:2\n",
      "逆行列:\n",
      "[[ 0.19230769 -0.07692308]\n",
      " [-0.07692308  0.23076923]]\n",
      "\n",
      "行列B）ランク:1,特異行列\n",
      "\n"
     ]
    }
   ],
   "source": [
    "# 行列：2行2列のnumpy.ndarrayを定義\n",
    "A = np.array([ [6.0,2.0],[2.0,5.0] ])\n",
    "B = np.array([ [6.0,3.0],[2.0,1.0] ])\n",
    "# 行列のランクの計算\n",
    "rankA= np.linalg.matrix_rank(A)\n",
    "rankB= np.linalg.matrix_rank(B)\n",
    "# Aの逆行列\n",
    "if rankA == len(A):\n",
    "    invA= np.linalg.inv(A)\n",
    "    print(f\"行列A）ランク:{rankA}\\n逆行列:\\n{invA}\\n\")\n",
    "else:\n",
    "    print(f\"行列A）ランク:{rankA},特異行列\\n\")\n",
    "# Bの逆行列\n",
    "if rankB == len(B):\n",
    "    invB= np.linalg.inv(B)\n",
    "    print(f\"行列B）ランク:{rankB}\\n逆行列:\\n{invB}\\n\")\n",
    "else:\n",
    "    print(f\"行列B）ランク:{rankB},特異行列\\n\")\n"
   ]
  },
  {
   "cell_type": "code",
   "execution_count": 15,
   "metadata": {},
   "outputs": [
    {
     "ename": "LinAlgError",
     "evalue": "Singular matrix",
     "output_type": "error",
     "traceback": [
      "\u001b[0;31m---------------------------------------------------------------------------\u001b[0m",
      "\u001b[0;31mLinAlgError\u001b[0m                               Traceback (most recent call last)",
      "\u001b[0;32m<ipython-input-15-143590671e83>\u001b[0m in \u001b[0;36m<module>\u001b[0;34m\u001b[0m\n\u001b[1;32m      1\u001b[0m \u001b[0;31m# Bの逆行列\u001b[0m\u001b[0;34m\u001b[0m\u001b[0;34m\u001b[0m\u001b[0;34m\u001b[0m\u001b[0m\n\u001b[0;32m----> 2\u001b[0;31m \u001b[0minvB\u001b[0m\u001b[0;34m=\u001b[0m\u001b[0mnp\u001b[0m\u001b[0;34m.\u001b[0m\u001b[0mlinalg\u001b[0m\u001b[0;34m.\u001b[0m\u001b[0minv\u001b[0m\u001b[0;34m(\u001b[0m\u001b[0mB\u001b[0m\u001b[0;34m)\u001b[0m\u001b[0;34m\u001b[0m\u001b[0;34m\u001b[0m\u001b[0m\n\u001b[0m\u001b[1;32m      3\u001b[0m \u001b[0mprint\u001b[0m\u001b[0;34m(\u001b[0m\u001b[0;34mf\"行列B）ランク:{rankB}\\n逆行列:\\n{invB}\\n\"\u001b[0m\u001b[0;34m)\u001b[0m\u001b[0;34m\u001b[0m\u001b[0;34m\u001b[0m\u001b[0m\n",
      "\u001b[0;32m/usr/local/lib/python3.8/dist-packages/numpy/core/overrides.py\u001b[0m in \u001b[0;36minv\u001b[0;34m(*args, **kwargs)\u001b[0m\n",
      "\u001b[0;32m/usr/local/lib/python3.8/dist-packages/numpy/linalg/linalg.py\u001b[0m in \u001b[0;36minv\u001b[0;34m(a)\u001b[0m\n\u001b[1;32m    543\u001b[0m     \u001b[0msignature\u001b[0m \u001b[0;34m=\u001b[0m \u001b[0;34m'D->D'\u001b[0m \u001b[0;32mif\u001b[0m \u001b[0misComplexType\u001b[0m\u001b[0;34m(\u001b[0m\u001b[0mt\u001b[0m\u001b[0;34m)\u001b[0m \u001b[0;32melse\u001b[0m \u001b[0;34m'd->d'\u001b[0m\u001b[0;34m\u001b[0m\u001b[0;34m\u001b[0m\u001b[0m\n\u001b[1;32m    544\u001b[0m     \u001b[0mextobj\u001b[0m \u001b[0;34m=\u001b[0m \u001b[0mget_linalg_error_extobj\u001b[0m\u001b[0;34m(\u001b[0m\u001b[0m_raise_linalgerror_singular\u001b[0m\u001b[0;34m)\u001b[0m\u001b[0;34m\u001b[0m\u001b[0;34m\u001b[0m\u001b[0m\n\u001b[0;32m--> 545\u001b[0;31m     \u001b[0mainv\u001b[0m \u001b[0;34m=\u001b[0m \u001b[0m_umath_linalg\u001b[0m\u001b[0;34m.\u001b[0m\u001b[0minv\u001b[0m\u001b[0;34m(\u001b[0m\u001b[0ma\u001b[0m\u001b[0;34m,\u001b[0m \u001b[0msignature\u001b[0m\u001b[0;34m=\u001b[0m\u001b[0msignature\u001b[0m\u001b[0;34m,\u001b[0m \u001b[0mextobj\u001b[0m\u001b[0;34m=\u001b[0m\u001b[0mextobj\u001b[0m\u001b[0;34m)\u001b[0m\u001b[0;34m\u001b[0m\u001b[0;34m\u001b[0m\u001b[0m\n\u001b[0m\u001b[1;32m    546\u001b[0m     \u001b[0;32mreturn\u001b[0m \u001b[0mwrap\u001b[0m\u001b[0;34m(\u001b[0m\u001b[0mainv\u001b[0m\u001b[0;34m.\u001b[0m\u001b[0mastype\u001b[0m\u001b[0;34m(\u001b[0m\u001b[0mresult_t\u001b[0m\u001b[0;34m,\u001b[0m \u001b[0mcopy\u001b[0m\u001b[0;34m=\u001b[0m\u001b[0;32mFalse\u001b[0m\u001b[0;34m)\u001b[0m\u001b[0;34m)\u001b[0m\u001b[0;34m\u001b[0m\u001b[0;34m\u001b[0m\u001b[0m\n\u001b[1;32m    547\u001b[0m \u001b[0;34m\u001b[0m\u001b[0m\n",
      "\u001b[0;32m/usr/local/lib/python3.8/dist-packages/numpy/linalg/linalg.py\u001b[0m in \u001b[0;36m_raise_linalgerror_singular\u001b[0;34m(err, flag)\u001b[0m\n\u001b[1;32m     86\u001b[0m \u001b[0;34m\u001b[0m\u001b[0m\n\u001b[1;32m     87\u001b[0m \u001b[0;32mdef\u001b[0m \u001b[0m_raise_linalgerror_singular\u001b[0m\u001b[0;34m(\u001b[0m\u001b[0merr\u001b[0m\u001b[0;34m,\u001b[0m \u001b[0mflag\u001b[0m\u001b[0;34m)\u001b[0m\u001b[0;34m:\u001b[0m\u001b[0;34m\u001b[0m\u001b[0;34m\u001b[0m\u001b[0m\n\u001b[0;32m---> 88\u001b[0;31m     \u001b[0;32mraise\u001b[0m \u001b[0mLinAlgError\u001b[0m\u001b[0;34m(\u001b[0m\u001b[0;34m\"Singular matrix\"\u001b[0m\u001b[0;34m)\u001b[0m\u001b[0;34m\u001b[0m\u001b[0;34m\u001b[0m\u001b[0m\n\u001b[0m\u001b[1;32m     89\u001b[0m \u001b[0;34m\u001b[0m\u001b[0m\n\u001b[1;32m     90\u001b[0m \u001b[0;32mdef\u001b[0m \u001b[0m_raise_linalgerror_nonposdef\u001b[0m\u001b[0;34m(\u001b[0m\u001b[0merr\u001b[0m\u001b[0;34m,\u001b[0m \u001b[0mflag\u001b[0m\u001b[0;34m)\u001b[0m\u001b[0;34m:\u001b[0m\u001b[0;34m\u001b[0m\u001b[0;34m\u001b[0m\u001b[0m\n",
      "\u001b[0;31mLinAlgError\u001b[0m: Singular matrix"
     ]
    }
   ],
   "source": [
    "# Bの逆行列\n",
    "invB = np.linalg.inv(B)\n",
    "print(f\"行列B）ランク:{rankB}\\n逆行列:\\n{invB}\\n\")\n"
   ]
  },
  {
   "cell_type": "code",
   "execution_count": 16,
   "metadata": {},
   "outputs": [
    {
     "name": "stdout",
     "output_type": "stream",
     "text": [
      "行列Aの行列式:26.0\n",
      "行列Bの行列式:0.0\n"
     ]
    }
   ],
   "source": [
    "# 行列式の計算\n",
    "detA = np.linalg.det(A)\n",
    "detB= np.linalg.det(B)\n",
    "# 標準出力\n",
    "print(f\"行列Aの行列式:{detA:.1f}\")\n",
    "print(f\"行列Bの行列式:{detB:.1f}\")\n"
   ]
  },
  {
   "cell_type": "code",
   "execution_count": 17,
   "metadata": {},
   "outputs": [
    {
     "name": "stdout",
     "output_type": "stream",
     "text": [
      "固有値:\n",
      "[ 5. -1.]\n",
      "固有ベクトル:\n",
      "[[ 0.70710678 -0.4472136 ]\n",
      " [ 0.70710678  0.89442719]]\n"
     ]
    }
   ],
   "source": [
    "# 行列Aの定義\n",
    "A = np.array([ [3,2],[4,1] ])\n",
    "# 固有値問題の解\n",
    "L,V = np.linalg.eig(A)\n",
    "# 標準出力\n",
    "print(f\"固有値:\\n{L}\")\n",
    "print(f\"固有ベクトル:\\n{V}\")\n"
   ]
  },
  {
   "cell_type": "code",
   "execution_count": null,
   "metadata": {},
   "outputs": [],
   "source": []
  }
 ],
 "metadata": {
  "kernelspec": {
   "display_name": "Python 3",
   "language": "python",
   "name": "python3"
  },
  "language_info": {
   "codemirror_mode": {
    "name": "ipython",
    "version": 3
   },
   "file_extension": ".py",
   "mimetype": "text/x-python",
   "name": "python",
   "nbconvert_exporter": "python",
   "pygments_lexer": "ipython3",
   "version": "3.8.10"
  }
 },
 "nbformat": 4,
 "nbformat_minor": 4
}
