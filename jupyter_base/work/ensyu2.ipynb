{
 "cells": [
  {
   "cell_type": "code",
   "execution_count": 3,
   "metadata": {},
   "outputs": [
    {
     "data": {
      "text/plain": [
       "'%.3f'"
      ]
     },
     "execution_count": 3,
     "metadata": {},
     "output_type": "execute_result"
    }
   ],
   "source": [
    "import numpy as np\n",
    "\n",
    "%precision 3"
   ]
  },
  {
   "cell_type": "markdown",
   "metadata": {},
   "source": [
    "## 配列"
   ]
  },
  {
   "cell_type": "code",
   "execution_count": 3,
   "metadata": {},
   "outputs": [
    {
     "data": {
      "text/plain": [
       "array([ 9,  2,  3,  4, 10,  6,  7,  8,  1,  5])"
      ]
     },
     "execution_count": 3,
     "metadata": {},
     "output_type": "execute_result"
    }
   ],
   "source": [
    "# 配列の作成\n",
    "data = np.array([9, 2, 3, 4, 10, 6, 7, 8, 1, 5])\n",
    "data"
   ]
  },
  {
   "cell_type": "code",
   "execution_count": 4,
   "metadata": {},
   "outputs": [
    {
     "data": {
      "text/plain": [
       "dtype('int64')"
      ]
     },
     "execution_count": 4,
     "metadata": {},
     "output_type": "execute_result"
    }
   ],
   "source": [
    "data.dtype"
   ]
  },
  {
   "cell_type": "markdown",
   "metadata": {},
   "source": [
    "## 次元数と要素数"
   ]
  },
  {
   "cell_type": "code",
   "execution_count": 5,
   "metadata": {},
   "outputs": [
    {
     "name": "stdout",
     "output_type": "stream",
     "text": [
      "次元数: 1\n",
      "要素数: 10\n"
     ]
    }
   ],
   "source": [
    "print('次元数:', data.ndim)\n",
    "print('要素数:', data.size)"
   ]
  },
  {
   "cell_type": "markdown",
   "metadata": {},
   "source": [
    "## 要素の計算"
   ]
  },
  {
   "cell_type": "code",
   "execution_count": 6,
   "metadata": {},
   "outputs": [
    {
     "name": "stdout",
     "output_type": "stream",
     "text": [
      "要素の計数倍: [ 5 10 15 20 25 30 35 40 45 50]\n",
      "掛け算: [  1   4   9  16  25  36  49  64  81 100]\n",
      "累乗: [  1   4   9  16  25  36  49  64  81 100]\n",
      "割り算: [1. 1. 1. 1. 1. 1. 1. 1. 1. 1.]\n"
     ]
    }
   ],
   "source": [
    "# それぞれの数字を5倍\n",
    "print('要素の計数倍:', np.array([1, 2, 3, 4, 5, 6, 7, 8, 9, 10]) * 5)\n",
    "# それぞれの要素同士での演算\n",
    "print('掛け算:', np.array([1, 2, 3, 4, 5, 6, 7, 8, 9, 10]) * np.array([1, 2, 3, 4, 5, 6, 7, 8, 9, 10]))\n",
    "print('累乗:', np.array([1, 2, 3, 4, 5, 6, 7, 8, 9, 10]) ** 2)\n",
    "print('割り算:', np.array([1, 2, 3, 4, 5, 6, 7, 8, 9, 10]) / np.array([1, 2, 3, 4, 5, 6, 7, 8, 9, 10]))"
   ]
  },
  {
   "cell_type": "markdown",
   "metadata": {},
   "source": [
    "## 並び替え (ソーティング)"
   ]
  },
  {
   "cell_type": "code",
   "execution_count": 7,
   "metadata": {},
   "outputs": [
    {
     "name": "stdout",
     "output_type": "stream",
     "text": [
      "現在値： [ 9  2  3  4 10  6  7  8  1  5]\n",
      "ソート後： [ 1  2  3  4  5  6  7  8  9 10]\n",
      "ソート後（降順）： [10  9  8  7  6  5  4  3  2  1]\n"
     ]
    }
   ],
   "source": [
    "# 現在の値を表示\n",
    "print('現在値：', data)\n",
    "# ソートした結果を表示\n",
    "data.sort()\n",
    "print('ソート後：', data)\n",
    "\n",
    "data[::-1].sort()\n",
    "print('ソート後（降順）：', data)"
   ]
  },
  {
   "cell_type": "markdown",
   "metadata": {},
   "source": [
    "## 最小、最大、合計、積み上げ"
   ]
  },
  {
   "cell_type": "code",
   "execution_count": 8,
   "metadata": {},
   "outputs": [
    {
     "name": "stdout",
     "output_type": "stream",
     "text": [
      "Min: 1\n",
      "Max: 10\n",
      "Sum: 55\n",
      "Cum: [10 19 27 34 40 45 49 52 54 55]\n"
     ]
    }
   ],
   "source": [
    "# 最小値\n",
    "print('Min:', data.min())\n",
    "# 最大値\n",
    "print('Max:', data.max())\n",
    "# 合計\n",
    "print('Sum:', data.sum())\n",
    "# 積み上げ\n",
    "print('Cum:', data.cumsum())"
   ]
  },
  {
   "cell_type": "markdown",
   "metadata": {},
   "source": [
    "## 乱数"
   ]
  },
  {
   "cell_type": "code",
   "execution_count": 9,
   "metadata": {},
   "outputs": [
    {
     "name": "stdout",
     "output_type": "stream",
     "text": [
      "乱数10個の配列: [ 1.764  0.4    0.979  2.241  1.868 -0.977  0.95  -0.151 -0.103  0.411]\n"
     ]
    }
   ],
   "source": [
    "# インポート\n",
    "import numpy.random as random\n",
    "# 乱数のシードの設定\n",
    "random.seed(0)\n",
    "# 正規分布（平均0、分散1）の乱数を10個発生\n",
    "rnd_data= random.randn(10)\n",
    "print('乱数10個の配列:', rnd_data)"
   ]
  },
  {
   "cell_type": "markdown",
   "metadata": {},
   "source": [
    "## データをランダムに抽出"
   ]
  },
  {
   "cell_type": "code",
   "execution_count": 10,
   "metadata": {},
   "outputs": [
    {
     "name": "stdout",
     "output_type": "stream",
     "text": [
      "[ 7  8  8  1  2  6  5  1  5 10]\n",
      "[10  2  7  8  3  1  6  5  9  4]\n"
     ]
    }
   ],
   "source": [
    "# 抽出対象データ\n",
    "data = np.array([9,2,3,4,10,6,7,8,1,5])\n",
    "# ランダム抽出# 10個を抽出（重複あり、復元抽出）\n",
    "print(random.choice(data, 10))\n",
    "# 10個を抽出（重複なし、非復元抽出)\n",
    "print(random.choice(data, 10, replace = False))"
   ]
  },
  {
   "cell_type": "markdown",
   "metadata": {},
   "source": [
    "## ちょっと一息 (確かめてみよう！)"
   ]
  },
  {
   "cell_type": "code",
   "execution_count": 11,
   "metadata": {},
   "outputs": [
    {
     "name": "stdout",
     "output_type": "stream",
     "text": [
      "3.87 ms ± 159 µs per loop (mean ± std. dev. of 7 runs, 100 loops each)\n",
      "546 µs ± 36.6 µs per loop (mean ± std. dev. of 7 runs, 1000 loops each)\n"
     ]
    }
   ],
   "source": [
    "# Nは乱数の発生数、10の6乗\n",
    "N = 10**6\n",
    "# Python版 (以下のrange(N)は0からN-1までの整数を用意しています。 \n",
    "# 「_」は、代入した値を参照しないときに使う慣例的な変数名です。\n",
    "# たとえば、for a in range(N)と書くのと同じですが、aと書くと、その値をあとで使うように見えるので、\n",
    "# その値を参照しないときは、for _ in range(N)のように慣例的に書く書き方です\n",
    "normal_data = [random.random() for _ in range(N)]\n",
    "# Numpy版\n",
    "numpy_random_data = np.array(normal_data)\n",
    "# calc time :合計値\n",
    "# ふつうの処理\n",
    "%timeit sum(normal_data)\n",
    "# Numpyを使った処理\n",
    "%timeit np.sum(numpy_random_data)"
   ]
  },
  {
   "cell_type": "markdown",
   "metadata": {},
   "source": [
    "## 行列"
   ]
  },
  {
   "cell_type": "code",
   "execution_count": 12,
   "metadata": {},
   "outputs": [
    {
     "name": "stdout",
     "output_type": "stream",
     "text": [
      "[0 1 2 3 4 5 6 7 8]\n",
      "[[0 1 2]\n",
      " [3 4 5]\n",
      " [6 7 8]]\n",
      "1行目： [0 1 2]\n",
      "1列目： [0 3 6]\n"
     ]
    }
   ],
   "source": [
    "# 0～8までの整数を発生\n",
    "print(np.arange(9))\n",
    "# 上記を３×３の行列に分割\n",
    "array1 = np.arange(9).reshape(3,3)\n",
    "print(array1)\n",
    "#1行目表示\n",
    "print('1行目：',array1[0,:])\n",
    "#1列目表示\n",
    "print('1列目：',array1[:,0])"
   ]
  },
  {
   "cell_type": "markdown",
   "metadata": {},
   "source": [
    "## 行列の演算"
   ]
  },
  {
   "cell_type": "code",
   "execution_count": 13,
   "metadata": {},
   "outputs": [
    {
     "name": "stdout",
     "output_type": "stream",
     "text": [
      "[[ 9 10 11]\n",
      " [12 13 14]\n",
      " [15 16 17]]\n",
      "[[ 42  45  48]\n",
      " [150 162 174]\n",
      " [258 279 300]]\n",
      "[[  0  10  22]\n",
      " [ 36  52  70]\n",
      " [ 90 112 136]]\n"
     ]
    }
   ],
   "source": [
    "# 9～17までの3×3の行列作成\n",
    "array2 = np.arange(9, 18).reshape(3,3)\n",
    "print(array2)\n",
    "#行列の積\n",
    "print(np.dot(array1, array2))\n",
    "#要素の積\n",
    "print(array1 * array2)"
   ]
  },
  {
   "cell_type": "markdown",
   "metadata": {},
   "source": [
    "## 要素が0や1の行列"
   ]
  },
  {
   "cell_type": "code",
   "execution_count": 16,
   "metadata": {},
   "outputs": [
    {
     "name": "stdout",
     "output_type": "stream",
     "text": [
      "[[0 0 0]\n",
      " [0 0 0]]\n",
      "[[1. 1. 1.]\n",
      " [1. 1. 1.]]\n"
     ]
    }
   ],
   "source": [
    "#要素がすべて０で，データ型は64ビット整数\n",
    "print(np.zeros((2, 3), dtype= np.int64))\n",
    "#要素がすべて１の64ビット浮動小数\n",
    "print(np.ones((2, 3), dtype= np.float64))\n",
    "\n",
    "\n"
   ]
  },
  {
   "cell_type": "markdown",
   "metadata": {},
   "source": [
    "# Scipyの基礎"
   ]
  },
  {
   "cell_type": "markdown",
   "metadata": {},
   "source": [
    "## Scipyライブラリのインポート"
   ]
  },
  {
   "cell_type": "code",
   "execution_count": 2,
   "metadata": {},
   "outputs": [],
   "source": [
    "# Scipyライブラリの読み込み\n",
    "import scipy as sp\n",
    "# 線形代数用のライブラリ\n",
    "import scipy.linalg as linalg\n",
    "# 最適化計算（最小値）用の関数\n",
    "from scipy.optimize import minimize_scalar\n",
    "\n",
    "\n"
   ]
  },
  {
   "cell_type": "markdown",
   "metadata": {},
   "source": [
    "## 行列式と逆行列"
   ]
  },
  {
   "cell_type": "code",
   "execution_count": 4,
   "metadata": {},
   "outputs": [
    {
     "name": "stdout",
     "output_type": "stream",
     "text": [
      "行列式\n",
      "-4.0\n",
      "逆行列\n",
      "[[ 0.  -0.5 -0.5]\n",
      " [-0.5 -0.  -0.5]\n",
      " [-0.5 -0.5  0. ]]\n",
      "[[1. 0. 0.]\n",
      " [0. 1. 0.]\n",
      " [0. 0. 1.]]\n"
     ]
    }
   ],
   "source": [
    "matrix = np.array([[1,-1,-1], [-1,1,-1], [-1,-1,1]])\n",
    "\n",
    "# 行列式\n",
    "print('行列式')\n",
    "print(linalg.det(matrix))\n",
    "\n",
    "# 逆行列\n",
    "print('逆行列')\n",
    "print(linalg.inv(matrix))\n",
    "\n",
    "#もとの行列と逆行列の積を確認\n",
    "print(matrix.dot(linalg.inv(matrix)))\n",
    "\n",
    "\n",
    "\n"
   ]
  },
  {
   "cell_type": "markdown",
   "metadata": {},
   "source": [
    "## 固有値と固有ベクトル"
   ]
  },
  {
   "cell_type": "code",
   "execution_count": 5,
   "metadata": {},
   "outputs": [
    {
     "name": "stdout",
     "output_type": "stream",
     "text": [
      "固有値\n",
      "[-1.+0.j  2.+0.j  2.+0.j]\n",
      "固有ベクトル\n",
      "[[ 0.577  0.816  0.408]\n",
      " [ 0.577 -0.408 -0.816]\n",
      " [ 0.577 -0.408  0.408]]\n"
     ]
    }
   ],
   "source": [
    "# 固有値と固有ベクトル\n",
    "eig_value, eig_vector= linalg.eig(matrix)\n",
    "\n",
    "# 固有値と固有ベクトル\n",
    "print('固有値')\n",
    "print(eig_value)\n",
    "print('固有ベクトル')\n",
    "print(eig_vector)\n"
   ]
  },
  {
   "cell_type": "markdown",
   "metadata": {},
   "source": [
    "## 方程式の解"
   ]
  },
  {
   "cell_type": "code",
   "execution_count": 7,
   "metadata": {},
   "outputs": [
    {
     "name": "stdout",
     "output_type": "stream",
     "text": [
      "-0.9999999852953906\n"
     ]
    }
   ],
   "source": [
    "# 関数の定義\n",
    "def my_function(x):\n",
    "    return (x**2 + 2*x + 1)\n",
    "# ニュートン法の読み込み\n",
    "from scipy.optimize import newton\n",
    "# 計算実行\n",
    "print(newton(my_function,0))"
   ]
  },
  {
   "cell_type": "markdown",
   "metadata": {},
   "source": [
    "## 最小値"
   ]
  },
  {
   "cell_type": "code",
   "execution_count": 8,
   "metadata": {},
   "outputs": [
    {
     "name": "stdout",
     "output_type": "stream",
     "text": [
      "     fun: 0.0\n",
      " message: '\\nOptimization terminated successfully;\\nThe returned value satisfies the termination criteria\\n(using xtol = 1.48e-08 )'\n",
      "    nfev: 9\n",
      "     nit: 4\n",
      " success: True\n",
      "       x: -1.0000000000000002\n"
     ]
    }
   ],
   "source": [
    "# 計算実行\n",
    "print(minimize_scalar(my_function, method = 'Brent'))"
   ]
  },
  {
   "cell_type": "code",
   "execution_count": null,
   "metadata": {},
   "outputs": [],
   "source": []
  }
 ],
 "metadata": {
  "kernelspec": {
   "display_name": "Python 3",
   "language": "python",
   "name": "python3"
  },
  "language_info": {
   "codemirror_mode": {
    "name": "ipython",
    "version": 3
   },
   "file_extension": ".py",
   "mimetype": "text/x-python",
   "name": "python",
   "nbconvert_exporter": "python",
   "pygments_lexer": "ipython3",
   "version": "3.8.10"
  }
 },
 "nbformat": 4,
 "nbformat_minor": 4
}
